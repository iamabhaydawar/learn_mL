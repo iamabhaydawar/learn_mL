{
  "nbformat": 4,
  "nbformat_minor": 0,
  "metadata": {
    "colab": {
      "provenance": [],
      "authorship_tag": "ABX9TyPWz0gnbS14j8bQKFcc4ENG",
      "include_colab_link": true
    },
    "kernelspec": {
      "name": "python3",
      "display_name": "Python 3"
    },
    "language_info": {
      "name": "python"
    }
  },
  "cells": [
    {
      "cell_type": "markdown",
      "metadata": {
        "id": "view-in-github",
        "colab_type": "text"
      },
      "source": [
        "<a href=\"https://colab.research.google.com/github/iamabhaydawar/learn_mL/blob/main/tensorflow_with_keras.ipynb\" target=\"_parent\"><img src=\"https://colab.research.google.com/assets/colab-badge.svg\" alt=\"Open In Colab\"/></a>"
      ]
    },
    {
      "cell_type": "markdown",
      "source": [
        "# Data Preparation and Processing"
      ],
      "metadata": {
        "id": "o3o1UZ6x2H9M"
      }
    },
    {
      "cell_type": "code",
      "execution_count": null,
      "metadata": {
        "id": "04TnuGq7b9cI"
      },
      "outputs": [],
      "source": [
        "import numpy as np\n",
        "from random import randint\n",
        "from sklearn.utils import shuffle\n",
        "from sklearn.preprocessing import MinMaxScaler"
      ]
    },
    {
      "cell_type": "code",
      "source": [
        "train_labels = []\n",
        "train_samples = []"
      ],
      "metadata": {
        "id": "kqV1gTj126j6"
      },
      "execution_count": null,
      "outputs": []
    },
    {
      "cell_type": "markdown",
      "source": [
        "Example Data:\n",
        "An experimental drug was tested on individuals from ages 13 to 100 in a clinical trail\n",
        "The trail had 2100 participants. Half were under 65 years old,half were 65 years or older.\n",
        "Around 95% of patients 65 or older experienced side effects\n",
        "Around 95% of patients under 65 experienced no side effects\n",
        "\n",
        "\n"
      ],
      "metadata": {
        "id": "WIYxixRL3PEx"
      }
    },
    {
      "cell_type": "code",
      "source": [
        "for i in range(50):\n",
        "    # The ~5% of younger individuals who did experience side effects\n",
        "    random_younger = randint(13,64)\n",
        "    train_samples.append(random_younger)\n",
        "    train_labels.append(1)\n",
        "\n",
        "    #The 5% of older individuals who did not experience side effects\n",
        "    random_older = randint(65,100)\n",
        "    train_samples.append(random_older)\n",
        "    train_labels.append(0)\n",
        "for i in range(1000):\n",
        "    #The ~95% of younger individuals who did not experience side effects\n",
        "    random_younger = randint(13,64)\n",
        "    train_samples.append(random_younger)\n",
        "    train_labels.append(0)\n",
        "\n",
        "    #The ~95% of older individuals who did experience side effects\n",
        "    random_older = randint(65,100)\n",
        "    train_samples.append(random_older)\n",
        "    train_labels.append(1)"
      ],
      "metadata": {
        "id": "4FsMhMds3_DB"
      },
      "execution_count": null,
      "outputs": []
    },
    {
      "cell_type": "code",
      "source": [
        "for i in train_samples:\n",
        "    print(i)"
      ],
      "metadata": {
        "id": "59zVLZfXH4f8"
      },
      "execution_count": null,
      "outputs": []
    },
    {
      "cell_type": "code",
      "source": [
        "for i in train_labels:\n",
        "    print(i)"
      ],
      "metadata": {
        "id": "d1jwtkC4H7D2"
      },
      "execution_count": null,
      "outputs": []
    },
    {
      "cell_type": "code",
      "source": [
        "train_labels= np.array(train_labels)\n",
        "train_samples = np.array(train_samples)\n",
        "train_labels, train_samples = shuffle(train_labels, train_samples)"
      ],
      "metadata": {
        "id": "JIV1hue65Ljy"
      },
      "execution_count": null,
      "outputs": []
    },
    {
      "cell_type": "code",
      "source": [
        "scaler = MinMaxScaler(feature_range=(0,1))\n",
        "scaled_train_samples = scaler.fit_transform(train_samples.reshape(-1,1))"
      ],
      "metadata": {
        "id": "hVCxS7oI5RxW"
      },
      "execution_count": null,
      "outputs": []
    },
    {
      "cell_type": "code",
      "source": [
        "for i in scaled_train_samples:\n",
        "    print(i)"
      ],
      "metadata": {
        "id": "3hw2AWIbICKA"
      },
      "execution_count": null,
      "outputs": []
    },
    {
      "cell_type": "markdown",
      "source": [
        "Simple tf.keras Sequential **Model**"
      ],
      "metadata": {
        "id": "71Hy3Q7Z60vU"
      }
    },
    {
      "cell_type": "code",
      "source": [
        "import tensorflow as tf\n",
        "from tensorflow import keras\n",
        "from tensorflow.keras.models import Sequential\n",
        "from tensorflow.keras.layers import Activation, Dense\n",
        "from tensorflow.keras.optimizers import Adam\n",
        "from tensorflow.keras.metrics import categorical_crossentropy"
      ],
      "metadata": {
        "id": "blA6fQjP5hGa"
      },
      "execution_count": null,
      "outputs": []
    },
    {
      "cell_type": "code",
      "source": [
        "physical_devices = tf.config.experimental.list_physical_devices('GPU')\n",
        "print(\"Num Gpu's Available:\",len(physical_devices))\n",
        "if len(physical_devices) > 0:\n",
        "    config = tf.config.experimental.set_memory_growth(physical_devices[0], True)"
      ],
      "metadata": {
        "colab": {
          "base_uri": "https://localhost:8080/"
        },
        "id": "SbEaiMVm7BSc",
        "outputId": "5387938f-e269-4ad3-fe36-cb7dc9bfb8b0"
      },
      "execution_count": null,
      "outputs": [
        {
          "output_type": "stream",
          "name": "stdout",
          "text": [
            "Num Gpu's Available: 0\n"
          ]
        }
      ]
    },
    {
      "cell_type": "code",
      "source": [
        "model=Sequential([\n",
        "    Dense(units=16, input_shape=(1,), activation='relu'),\n",
        "    Dense(units=32, activation='relu'),\n",
        "    Dense(units=2, activation='softmax')\n",
        "])"
      ],
      "metadata": {
        "colab": {
          "base_uri": "https://localhost:8080/"
        },
        "id": "Ss7TQI7_7SR5",
        "outputId": "feb4b51e-4590-4b7f-92dd-d491d3201679"
      },
      "execution_count": null,
      "outputs": [
        {
          "output_type": "stream",
          "name": "stderr",
          "text": [
            "/usr/local/lib/python3.11/dist-packages/keras/src/layers/core/dense.py:87: UserWarning: Do not pass an `input_shape`/`input_dim` argument to a layer. When using Sequential models, prefer using an `Input(shape)` object as the first layer in the model instead.\n",
            "  super().__init__(activity_regularizer=activity_regularizer, **kwargs)\n"
          ]
        }
      ]
    },
    {
      "cell_type": "code",
      "source": [
        "model.summary()"
      ],
      "metadata": {
        "colab": {
          "base_uri": "https://localhost:8080/",
          "height": 232
        },
        "id": "C9bVDG7o7f9p",
        "outputId": "a3cbc2df-a7e6-4ebd-df46-ccae87201fb5"
      },
      "execution_count": null,
      "outputs": [
        {
          "output_type": "display_data",
          "data": {
            "text/plain": [
              "\u001b[1mModel: \"sequential\"\u001b[0m\n"
            ],
            "text/html": [
              "<pre style=\"white-space:pre;overflow-x:auto;line-height:normal;font-family:Menlo,'DejaVu Sans Mono',consolas,'Courier New',monospace\"><span style=\"font-weight: bold\">Model: \"sequential\"</span>\n",
              "</pre>\n"
            ]
          },
          "metadata": {}
        },
        {
          "output_type": "display_data",
          "data": {
            "text/plain": [
              "┏━━━━━━━━━━━━━━━━━━━━━━━━━━━━━━━━━┳━━━━━━━━━━━━━━━━━━━━━━━━┳━━━━━━━━━━━━━━━┓\n",
              "┃\u001b[1m \u001b[0m\u001b[1mLayer (type)                   \u001b[0m\u001b[1m \u001b[0m┃\u001b[1m \u001b[0m\u001b[1mOutput Shape          \u001b[0m\u001b[1m \u001b[0m┃\u001b[1m \u001b[0m\u001b[1m      Param #\u001b[0m\u001b[1m \u001b[0m┃\n",
              "┡━━━━━━━━━━━━━━━━━━━━━━━━━━━━━━━━━╇━━━━━━━━━━━━━━━━━━━━━━━━╇━━━━━━━━━━━━━━━┩\n",
              "│ dense (\u001b[38;5;33mDense\u001b[0m)                   │ (\u001b[38;5;45mNone\u001b[0m, \u001b[38;5;34m16\u001b[0m)             │            \u001b[38;5;34m32\u001b[0m │\n",
              "├─────────────────────────────────┼────────────────────────┼───────────────┤\n",
              "│ dense_1 (\u001b[38;5;33mDense\u001b[0m)                 │ (\u001b[38;5;45mNone\u001b[0m, \u001b[38;5;34m32\u001b[0m)             │           \u001b[38;5;34m544\u001b[0m │\n",
              "├─────────────────────────────────┼────────────────────────┼───────────────┤\n",
              "│ dense_2 (\u001b[38;5;33mDense\u001b[0m)                 │ (\u001b[38;5;45mNone\u001b[0m, \u001b[38;5;34m2\u001b[0m)              │            \u001b[38;5;34m66\u001b[0m │\n",
              "└─────────────────────────────────┴────────────────────────┴───────────────┘\n"
            ],
            "text/html": [
              "<pre style=\"white-space:pre;overflow-x:auto;line-height:normal;font-family:Menlo,'DejaVu Sans Mono',consolas,'Courier New',monospace\">┏━━━━━━━━━━━━━━━━━━━━━━━━━━━━━━━━━┳━━━━━━━━━━━━━━━━━━━━━━━━┳━━━━━━━━━━━━━━━┓\n",
              "┃<span style=\"font-weight: bold\"> Layer (type)                    </span>┃<span style=\"font-weight: bold\"> Output Shape           </span>┃<span style=\"font-weight: bold\">       Param # </span>┃\n",
              "┡━━━━━━━━━━━━━━━━━━━━━━━━━━━━━━━━━╇━━━━━━━━━━━━━━━━━━━━━━━━╇━━━━━━━━━━━━━━━┩\n",
              "│ dense (<span style=\"color: #0087ff; text-decoration-color: #0087ff\">Dense</span>)                   │ (<span style=\"color: #00d7ff; text-decoration-color: #00d7ff\">None</span>, <span style=\"color: #00af00; text-decoration-color: #00af00\">16</span>)             │            <span style=\"color: #00af00; text-decoration-color: #00af00\">32</span> │\n",
              "├─────────────────────────────────┼────────────────────────┼───────────────┤\n",
              "│ dense_1 (<span style=\"color: #0087ff; text-decoration-color: #0087ff\">Dense</span>)                 │ (<span style=\"color: #00d7ff; text-decoration-color: #00d7ff\">None</span>, <span style=\"color: #00af00; text-decoration-color: #00af00\">32</span>)             │           <span style=\"color: #00af00; text-decoration-color: #00af00\">544</span> │\n",
              "├─────────────────────────────────┼────────────────────────┼───────────────┤\n",
              "│ dense_2 (<span style=\"color: #0087ff; text-decoration-color: #0087ff\">Dense</span>)                 │ (<span style=\"color: #00d7ff; text-decoration-color: #00d7ff\">None</span>, <span style=\"color: #00af00; text-decoration-color: #00af00\">2</span>)              │            <span style=\"color: #00af00; text-decoration-color: #00af00\">66</span> │\n",
              "└─────────────────────────────────┴────────────────────────┴───────────────┘\n",
              "</pre>\n"
            ]
          },
          "metadata": {}
        },
        {
          "output_type": "display_data",
          "data": {
            "text/plain": [
              "\u001b[1m Total params: \u001b[0m\u001b[38;5;34m642\u001b[0m (2.51 KB)\n"
            ],
            "text/html": [
              "<pre style=\"white-space:pre;overflow-x:auto;line-height:normal;font-family:Menlo,'DejaVu Sans Mono',consolas,'Courier New',monospace\"><span style=\"font-weight: bold\"> Total params: </span><span style=\"color: #00af00; text-decoration-color: #00af00\">642</span> (2.51 KB)\n",
              "</pre>\n"
            ]
          },
          "metadata": {}
        },
        {
          "output_type": "display_data",
          "data": {
            "text/plain": [
              "\u001b[1m Trainable params: \u001b[0m\u001b[38;5;34m642\u001b[0m (2.51 KB)\n"
            ],
            "text/html": [
              "<pre style=\"white-space:pre;overflow-x:auto;line-height:normal;font-family:Menlo,'DejaVu Sans Mono',consolas,'Courier New',monospace\"><span style=\"font-weight: bold\"> Trainable params: </span><span style=\"color: #00af00; text-decoration-color: #00af00\">642</span> (2.51 KB)\n",
              "</pre>\n"
            ]
          },
          "metadata": {}
        },
        {
          "output_type": "display_data",
          "data": {
            "text/plain": [
              "\u001b[1m Non-trainable params: \u001b[0m\u001b[38;5;34m0\u001b[0m (0.00 B)\n"
            ],
            "text/html": [
              "<pre style=\"white-space:pre;overflow-x:auto;line-height:normal;font-family:Menlo,'DejaVu Sans Mono',consolas,'Courier New',monospace\"><span style=\"font-weight: bold\"> Non-trainable params: </span><span style=\"color: #00af00; text-decoration-color: #00af00\">0</span> (0.00 B)\n",
              "</pre>\n"
            ]
          },
          "metadata": {}
        }
      ]
    },
    {
      "cell_type": "code",
      "source": [
        "model.compile(optimizer=Adam(learning_rate=0.0001), loss='sparse_categorical_crossentropy', metrics=['accuracy'])"
      ],
      "metadata": {
        "id": "t74mLdjh9ENu"
      },
      "execution_count": null,
      "outputs": []
    },
    {
      "cell_type": "code",
      "source": [
        "model.fit(x=scaled_train_samples, y=train_labels,validation_split=0.1, batch_size=10, epochs=30, shuffle=True, verbose=0)"
      ],
      "metadata": {
        "colab": {
          "base_uri": "https://localhost:8080/"
        },
        "collapsed": true,
        "id": "m5tPnKeL97JH",
        "outputId": "e1663b4f-dc58-4935-ce55-e4db9e4e830b"
      },
      "execution_count": null,
      "outputs": [
        {
          "output_type": "execute_result",
          "data": {
            "text/plain": [
              "<keras.src.callbacks.history.History at 0x79e0823f8c90>"
            ]
          },
          "metadata": {},
          "execution_count": 19
        }
      ]
    },
    {
      "cell_type": "code",
      "source": [
        "test_labels = []\n",
        "test_samples = []\n",
        "for i in range(50):\n",
        "    # The ~5% of younger individuals who did experience side effects\n",
        "    random_younger = randint(13,64)\n",
        "    test_samples.append(random_younger)\n",
        "    test_labels.append(1)\n",
        "\n",
        "    #The 5% of older individuals who did not experience side effects\n",
        "    random_older = randint(65,100)\n",
        "    test_samples.append(random_older)\n",
        "    test_labels.append(0)\n",
        "\n",
        "for i in range(1000):\n",
        "    #The ~95% of younger individuals who did not experience side effects\n",
        "    random_younger = randint(13,64)\n",
        "    test_samples.append(random_younger)\n",
        "    test_labels.append(0)\n",
        "\n",
        "    #The ~95% of older individuals who did experience side effects\n",
        "    random_older = randint(65,100)\n",
        "    test_samples.append(random_older)\n",
        "    test_labels.append(1)"
      ],
      "metadata": {
        "id": "pRWUY7GyHG0K"
      },
      "execution_count": null,
      "outputs": []
    },
    {
      "cell_type": "code",
      "source": [
        "test_labels= np.array(test_labels)\n",
        "test_samples = np.array(test_samples)\n",
        "test_labels, train_samples = shuffle(test_labels, test_samples)"
      ],
      "metadata": {
        "id": "_4yER0xqG4px"
      },
      "execution_count": null,
      "outputs": []
    },
    {
      "cell_type": "code",
      "source": [
        "scaled_test_samples=scaler.fit_transform(test_samples.reshape(-1,1))"
      ],
      "metadata": {
        "id": "MM6v5iXBHBrE"
      },
      "execution_count": null,
      "outputs": []
    },
    {
      "cell_type": "markdown",
      "source": [
        "Pridicting"
      ],
      "metadata": {
        "id": "3fha0vy6HqaB"
      }
    },
    {
      "cell_type": "code",
      "source": [
        "predictions = model.predict(x=scaled_test_samples, batch_size=10, verbose=0)"
      ],
      "metadata": {
        "id": "HNlBrK8OHnZd"
      },
      "execution_count": null,
      "outputs": []
    },
    {
      "cell_type": "code",
      "source": [
        "for i in predictions:\n",
        "    print(i)"
      ],
      "metadata": {
        "id": "g3hjChyeHsLi"
      },
      "execution_count": null,
      "outputs": []
    },
    {
      "cell_type": "code",
      "source": [
        "rounder_predictions=np.argmax(predictions, axis=-1)"
      ],
      "metadata": {
        "id": "eZKo13GXHt5k"
      },
      "execution_count": null,
      "outputs": []
    },
    {
      "cell_type": "code",
      "source": [
        "for i in rounder_predictions:\n",
        "    print(i)"
      ],
      "metadata": {
        "id": "Lnbf9Vv-IlH6"
      },
      "execution_count": null,
      "outputs": []
    },
    {
      "cell_type": "markdown",
      "source": [
        "Confusion Matrix"
      ],
      "metadata": {
        "id": "Q9ao31siLceH"
      }
    },
    {
      "cell_type": "code",
      "source": [
        "%matplotlib inline\n",
        "from sklearn.metrics import confusion_matrix\n",
        "import itertools\n",
        "import matplotlib.pyplot as plt"
      ],
      "metadata": {
        "id": "IPTsyGLjKjCl"
      },
      "execution_count": null,
      "outputs": []
    },
    {
      "cell_type": "code",
      "source": [
        "cm = confusion_matrix(y_true=test_labels, y_pred=rounder_predictions)"
      ],
      "metadata": {
        "id": "AMX1fhyVLiMJ"
      },
      "execution_count": null,
      "outputs": []
    },
    {
      "cell_type": "code",
      "source": [
        "import numpy as np\n",
        "import matplotlib.pyplot as plt\n",
        "import itertools\n",
        "from sklearn.metrics import confusion_matrix\n",
        "\n",
        "def plot_confusion_matrix(cm, classes, normalize=False, title='Confusion matrix', cmap=plt.cm.viridis):\n",
        "    \"\"\"\n",
        "    This function prints and plots the confusion matrix with improved text visibility.\n",
        "    Normalization can be applied by setting `normalize=True`.\n",
        "\n",
        "    Parameters:\n",
        "    -----------\n",
        "    cm : array-like of shape (n_classes, n_classes)\n",
        "        Confusion matrix to be plotted\n",
        "    classes : list of str\n",
        "        List of class names to display on axes\n",
        "    normalize : bool, optional (default=False)\n",
        "        Whether to normalize the confusion matrix\n",
        "    title : str, optional\n",
        "        Title for the plot\n",
        "    cmap : matplotlib colormap, optional\n",
        "        Colormap for the plot\n",
        "    \"\"\"\n",
        "    if normalize:\n",
        "        cm = cm.astype('float') / cm.sum(axis=1)[:, np.newaxis]\n",
        "        print(\"Normalized confusion matrix\")\n",
        "    else:\n",
        "        print('Confusion matrix, without normalization')\n",
        "\n",
        "    print(cm)\n",
        "\n",
        "    plt.imshow(cm, interpolation='nearest', cmap=cmap)\n",
        "    plt.title(title)\n",
        "    plt.colorbar()\n",
        "    tick_marks = np.arange(len(classes))\n",
        "    plt.xticks(tick_marks, classes, rotation=45)\n",
        "    plt.yticks(tick_marks, classes)\n",
        "\n",
        "    fmt = '.2f' if normalize else 'd'\n",
        "    thresh = cm.max() / 3.  # Changed from /2 to /3 for better contrast\n",
        "    for i, j in itertools.product(range(cm.shape[0]), range(cm.shape[1])):\n",
        "        plt.text(j, i, format(cm[i, j], fmt),\n",
        "                 horizontalalignment=\"center\",\n",
        "                 color=\"black\" if cm[i, j] < thresh else \"white\",\n",
        "                 fontweight='bold')  # Added bold for better visibility\n",
        "\n",
        "    plt.tight_layout()\n",
        "    plt.ylabel('True label')\n",
        "    plt.xlabel('Predicted label')\n",
        "    plt.show()\n"
      ],
      "metadata": {
        "id": "uxbm6JTaLoqB"
      },
      "execution_count": null,
      "outputs": []
    },
    {
      "cell_type": "code",
      "source": [
        "cm_plot_labels = ['no_side_effects','had_side_effects']\n",
        "plot_confusion_matrix(cm=cm, classes=cm_plot_labels, title='Confusion Matrix')"
      ],
      "metadata": {
        "colab": {
          "base_uri": "https://localhost:8080/",
          "height": 560
        },
        "id": "PKBULbfgNOe0",
        "outputId": "50ffc5c0-b3ee-4bba-ce81-d60674af8140"
      },
      "execution_count": null,
      "outputs": [
        {
          "output_type": "stream",
          "name": "stdout",
          "text": [
            "Confusion matrix, without normalization\n",
            "[[510 540]\n",
            " [479 571]]\n"
          ]
        },
        {
          "output_type": "display_data",
          "data": {
            "text/plain": [
              "<Figure size 640x480 with 2 Axes>"
            ],
            "image/png": "[encoded data removed]"
          },
          "metadata": {}
        }
      ]
    },
    {
      "cell_type": "markdown",
      "source": [
        "# Save and Load a Model"
      ],
      "metadata": {
        "id": "AzWA3r9NREa5"
      }
    },
    {
      "cell_type": "code",
      "source": [
        "model.summary()"
      ],
      "metadata": {
        "colab": {
          "base_uri": "https://localhost:8080/",
          "height": 248
        },
        "id": "fx7JK0MTRC_a",
        "outputId": "e9e85e63-465d-4824-ee9b-019cf7abb0f6"
      },
      "execution_count": null,
      "outputs": [
        {
          "output_type": "display_data",
          "data": {
            "text/plain": [
              "\u001b[1mModel: \"sequential\"\u001b[0m\n"
            ],
            "text/html": [
              "<pre style=\"white-space:pre;overflow-x:auto;line-height:normal;font-family:Menlo,'DejaVu Sans Mono',consolas,'Courier New',monospace\"><span style=\"font-weight: bold\">Model: \"sequential\"</span>\n",
              "</pre>\n"
            ]
          },
          "metadata": {}
        },
        {
          "output_type": "display_data",
          "data": {
            "text/plain": [
              "┏━━━━━━━━━━━━━━━━━━━━━━━━━━━━━━━━━┳━━━━━━━━━━━━━━━━━━━━━━━━┳━━━━━━━━━━━━━━━┓\n",
              "┃\u001b[1m \u001b[0m\u001b[1mLayer (type)                   \u001b[0m\u001b[1m \u001b[0m┃\u001b[1m \u001b[0m\u001b[1mOutput Shape          \u001b[0m\u001b[1m \u001b[0m┃\u001b[1m \u001b[0m\u001b[1m      Param #\u001b[0m\u001b[1m \u001b[0m┃\n",
              "┡━━━━━━━━━━━━━━━━━━━━━━━━━━━━━━━━━╇━━━━━━━━━━━━━━━━━━━━━━━━╇━━━━━━━━━━━━━━━┩\n",
              "│ dense (\u001b[38;5;33mDense\u001b[0m)                   │ (\u001b[38;5;45mNone\u001b[0m, \u001b[38;5;34m16\u001b[0m)             │            \u001b[38;5;34m32\u001b[0m │\n",
              "├─────────────────────────────────┼────────────────────────┼───────────────┤\n",
              "│ dense_1 (\u001b[38;5;33mDense\u001b[0m)                 │ (\u001b[38;5;45mNone\u001b[0m, \u001b[38;5;34m32\u001b[0m)             │           \u001b[38;5;34m544\u001b[0m │\n",
              "├─────────────────────────────────┼────────────────────────┼───────────────┤\n",
              "│ dense_2 (\u001b[38;5;33mDense\u001b[0m)                 │ (\u001b[38;5;45mNone\u001b[0m, \u001b[38;5;34m2\u001b[0m)              │            \u001b[38;5;34m66\u001b[0m │\n",
              "└─────────────────────────────────┴────────────────────────┴───────────────┘\n"
            ],
            "text/html": [
              "<pre style=\"white-space:pre;overflow-x:auto;line-height:normal;font-family:Menlo,'DejaVu Sans Mono',consolas,'Courier New',monospace\">┏━━━━━━━━━━━━━━━━━━━━━━━━━━━━━━━━━┳━━━━━━━━━━━━━━━━━━━━━━━━┳━━━━━━━━━━━━━━━┓\n",
              "┃<span style=\"font-weight: bold\"> Layer (type)                    </span>┃<span style=\"font-weight: bold\"> Output Shape           </span>┃<span style=\"font-weight: bold\">       Param # </span>┃\n",
              "┡━━━━━━━━━━━━━━━━━━━━━━━━━━━━━━━━━╇━━━━━━━━━━━━━━━━━━━━━━━━╇━━━━━━━━━━━━━━━┩\n",
              "│ dense (<span style=\"color: #0087ff; text-decoration-color: #0087ff\">Dense</span>)                   │ (<span style=\"color: #00d7ff; text-decoration-color: #00d7ff\">None</span>, <span style=\"color: #00af00; text-decoration-color: #00af00\">16</span>)             │            <span style=\"color: #00af00; text-decoration-color: #00af00\">32</span> │\n",
              "├─────────────────────────────────┼────────────────────────┼───────────────┤\n",
              "│ dense_1 (<span style=\"color: #0087ff; text-decoration-color: #0087ff\">Dense</span>)                 │ (<span style=\"color: #00d7ff; text-decoration-color: #00d7ff\">None</span>, <span style=\"color: #00af00; text-decoration-color: #00af00\">32</span>)             │           <span style=\"color: #00af00; text-decoration-color: #00af00\">544</span> │\n",
              "├─────────────────────────────────┼────────────────────────┼───────────────┤\n",
              "│ dense_2 (<span style=\"color: #0087ff; text-decoration-color: #0087ff\">Dense</span>)                 │ (<span style=\"color: #00d7ff; text-decoration-color: #00d7ff\">None</span>, <span style=\"color: #00af00; text-decoration-color: #00af00\">2</span>)              │            <span style=\"color: #00af00; text-decoration-color: #00af00\">66</span> │\n",
              "└─────────────────────────────────┴────────────────────────┴───────────────┘\n",
              "</pre>\n"
            ]
          },
          "metadata": {}
        },
        {
          "output_type": "display_data",
          "data": {
            "text/plain": [
              "\u001b[1m Total params: \u001b[0m\u001b[38;5;34m1,928\u001b[0m (7.54 KB)\n"
            ],
            "text/html": [
              "<pre style=\"white-space:pre;overflow-x:auto;line-height:normal;font-family:Menlo,'DejaVu Sans Mono',consolas,'Courier New',monospace\"><span style=\"font-weight: bold\"> Total params: </span><span style=\"color: #00af00; text-decoration-color: #00af00\">1,928</span> (7.54 KB)\n",
              "</pre>\n"
            ]
          },
          "metadata": {}
        },
        {
          "output_type": "display_data",
          "data": {
            "text/plain": [
              "\u001b[1m Trainable params: \u001b[0m\u001b[38;5;34m642\u001b[0m (2.51 KB)\n"
            ],
            "text/html": [
              "<pre style=\"white-space:pre;overflow-x:auto;line-height:normal;font-family:Menlo,'DejaVu Sans Mono',consolas,'Courier New',monospace\"><span style=\"font-weight: bold\"> Trainable params: </span><span style=\"color: #00af00; text-decoration-color: #00af00\">642</span> (2.51 KB)\n",
              "</pre>\n"
            ]
          },
          "metadata": {}
        },
        {
          "output_type": "display_data",
          "data": {
            "text/plain": [
              "\u001b[1m Non-trainable params: \u001b[0m\u001b[38;5;34m0\u001b[0m (0.00 B)\n"
            ],
            "text/html": [
              "<pre style=\"white-space:pre;overflow-x:auto;line-height:normal;font-family:Menlo,'DejaVu Sans Mono',consolas,'Courier New',monospace\"><span style=\"font-weight: bold\"> Non-trainable params: </span><span style=\"color: #00af00; text-decoration-color: #00af00\">0</span> (0.00 B)\n",
              "</pre>\n"
            ]
          },
          "metadata": {}
        },
        {
          "output_type": "display_data",
          "data": {
            "text/plain": [
              "\u001b[1m Optimizer params: \u001b[0m\u001b[38;5;34m1,286\u001b[0m (5.03 KB)\n"
            ],
            "text/html": [
              "<pre style=\"white-space:pre;overflow-x:auto;line-height:normal;font-family:Menlo,'DejaVu Sans Mono',consolas,'Courier New',monospace\"><span style=\"font-weight: bold\"> Optimizer params: </span><span style=\"color: #00af00; text-decoration-color: #00af00\">1,286</span> (5.03 KB)\n",
              "</pre>\n"
            ]
          },
          "metadata": {}
        }
      ]
    },
    {
      "cell_type": "code",
      "source": [
        "import os.path\n",
        "import os\n",
        "\n",
        "if not os.path.exists('models'):\n",
        "    os.makedirs('models')\n",
        "\n",
        "if os.path.isfile('models/medical_trial_model.h5') is False:\n",
        "    model.save('models/medical_trial_model.h5')"
      ],
      "metadata": {
        "id": "copAc48KRI3X"
      },
      "execution_count": null,
      "outputs": []
    },
    {
      "cell_type": "markdown",
      "source": [
        "This save function saves:\n",
        "\n",
        "The architecture of the model, allowing to re-create the model.\n",
        "\n",
        "The weights of the model.\n",
        "\n",
        "The training configuration (loss, optimizer).\n",
        "\n",
        "The state of the optimizer, allowing to resume training exactly where you left off."
      ],
      "metadata": {
        "id": "erV9-3BESSmR"
      }
    },
    {
      "cell_type": "code",
      "source": [
        "from tensorflow.keras.models import load_model\n",
        "new_model = load_model('models/medical_trial_model.h5')"
      ],
      "metadata": {
        "id": "nL3E2R-xSOsT",
        "colab": {
          "base_uri": "https://localhost:8080/"
        },
        "outputId": "dd53ecb7-5376-4a5d-f3da-1f7b6321c44c"
      },
      "execution_count": null,
      "outputs": [
        {
          "output_type": "stream",
          "name": "stderr",
          "text": [
            "WARNING:absl:Compiled the loaded model, but the compiled metrics have yet to be built. `model.compile_metrics` will be empty until you train or evaluate the model.\n"
          ]
        }
      ]
    },
    {
      "cell_type": "code",
      "source": [
        "new_model.summary()"
      ],
      "metadata": {
        "colab": {
          "base_uri": "https://localhost:8080/",
          "height": 248
        },
        "id": "T8uxwcq1S4uD",
        "outputId": "36f2d1e2-6162-4138-bc1b-f5c3abfe92ec"
      },
      "execution_count": null,
      "outputs": [
        {
          "output_type": "display_data",
          "data": {
            "text/plain": [
              "\u001b[1mModel: \"sequential\"\u001b[0m\n"
            ],
            "text/html": [
              "<pre style=\"white-space:pre;overflow-x:auto;line-height:normal;font-family:Menlo,'DejaVu Sans Mono',consolas,'Courier New',monospace\"><span style=\"font-weight: bold\">Model: \"sequential\"</span>\n",
              "</pre>\n"
            ]
          },
          "metadata": {}
        },
        {
          "output_type": "display_data",
          "data": {
            "text/plain": [
              "┏━━━━━━━━━━━━━━━━━━━━━━━━━━━━━━━━━┳━━━━━━━━━━━━━━━━━━━━━━━━┳━━━━━━━━━━━━━━━┓\n",
              "┃\u001b[1m \u001b[0m\u001b[1mLayer (type)                   \u001b[0m\u001b[1m \u001b[0m┃\u001b[1m \u001b[0m\u001b[1mOutput Shape          \u001b[0m\u001b[1m \u001b[0m┃\u001b[1m \u001b[0m\u001b[1m      Param #\u001b[0m\u001b[1m \u001b[0m┃\n",
              "┡━━━━━━━━━━━━━━━━━━━━━━━━━━━━━━━━━╇━━━━━━━━━━━━━━━━━━━━━━━━╇━━━━━━━━━━━━━━━┩\n",
              "│ dense (\u001b[38;5;33mDense\u001b[0m)                   │ (\u001b[38;5;45mNone\u001b[0m, \u001b[38;5;34m16\u001b[0m)             │            \u001b[38;5;34m32\u001b[0m │\n",
              "├─────────────────────────────────┼────────────────────────┼───────────────┤\n",
              "│ dense_1 (\u001b[38;5;33mDense\u001b[0m)                 │ (\u001b[38;5;45mNone\u001b[0m, \u001b[38;5;34m32\u001b[0m)             │           \u001b[38;5;34m544\u001b[0m │\n",
              "├─────────────────────────────────┼────────────────────────┼───────────────┤\n",
              "│ dense_2 (\u001b[38;5;33mDense\u001b[0m)                 │ (\u001b[38;5;45mNone\u001b[0m, \u001b[38;5;34m2\u001b[0m)              │            \u001b[38;5;34m66\u001b[0m │\n",
              "└─────────────────────────────────┴────────────────────────┴───────────────┘\n"
            ],
            "text/html": [
              "<pre style=\"white-space:pre;overflow-x:auto;line-height:normal;font-family:Menlo,'DejaVu Sans Mono',consolas,'Courier New',monospace\">┏━━━━━━━━━━━━━━━━━━━━━━━━━━━━━━━━━┳━━━━━━━━━━━━━━━━━━━━━━━━┳━━━━━━━━━━━━━━━┓\n",
              "┃<span style=\"font-weight: bold\"> Layer (type)                    </span>┃<span style=\"font-weight: bold\"> Output Shape           </span>┃<span style=\"font-weight: bold\">       Param # </span>┃\n",
              "┡━━━━━━━━━━━━━━━━━━━━━━━━━━━━━━━━━╇━━━━━━━━━━━━━━━━━━━━━━━━╇━━━━━━━━━━━━━━━┩\n",
              "│ dense (<span style=\"color: #0087ff; text-decoration-color: #0087ff\">Dense</span>)                   │ (<span style=\"color: #00d7ff; text-decoration-color: #00d7ff\">None</span>, <span style=\"color: #00af00; text-decoration-color: #00af00\">16</span>)             │            <span style=\"color: #00af00; text-decoration-color: #00af00\">32</span> │\n",
              "├─────────────────────────────────┼────────────────────────┼───────────────┤\n",
              "│ dense_1 (<span style=\"color: #0087ff; text-decoration-color: #0087ff\">Dense</span>)                 │ (<span style=\"color: #00d7ff; text-decoration-color: #00d7ff\">None</span>, <span style=\"color: #00af00; text-decoration-color: #00af00\">32</span>)             │           <span style=\"color: #00af00; text-decoration-color: #00af00\">544</span> │\n",
              "├─────────────────────────────────┼────────────────────────┼───────────────┤\n",
              "│ dense_2 (<span style=\"color: #0087ff; text-decoration-color: #0087ff\">Dense</span>)                 │ (<span style=\"color: #00d7ff; text-decoration-color: #00d7ff\">None</span>, <span style=\"color: #00af00; text-decoration-color: #00af00\">2</span>)              │            <span style=\"color: #00af00; text-decoration-color: #00af00\">66</span> │\n",
              "└─────────────────────────────────┴────────────────────────┴───────────────┘\n",
              "</pre>\n"
            ]
          },
          "metadata": {}
        },
        {
          "output_type": "display_data",
          "data": {
            "text/plain": [
              "\u001b[1m Total params: \u001b[0m\u001b[38;5;34m644\u001b[0m (2.52 KB)\n"
            ],
            "text/html": [
              "<pre style=\"white-space:pre;overflow-x:auto;line-height:normal;font-family:Menlo,'DejaVu Sans Mono',consolas,'Courier New',monospace\"><span style=\"font-weight: bold\"> Total params: </span><span style=\"color: #00af00; text-decoration-color: #00af00\">644</span> (2.52 KB)\n",
              "</pre>\n"
            ]
          },
          "metadata": {}
        },
        {
          "output_type": "display_data",
          "data": {
            "text/plain": [
              "\u001b[1m Trainable params: \u001b[0m\u001b[38;5;34m642\u001b[0m (2.51 KB)\n"
            ],
            "text/html": [
              "<pre style=\"white-space:pre;overflow-x:auto;line-height:normal;font-family:Menlo,'DejaVu Sans Mono',consolas,'Courier New',monospace\"><span style=\"font-weight: bold\"> Trainable params: </span><span style=\"color: #00af00; text-decoration-color: #00af00\">642</span> (2.51 KB)\n",
              "</pre>\n"
            ]
          },
          "metadata": {}
        },
        {
          "output_type": "display_data",
          "data": {
            "text/plain": [
              "\u001b[1m Non-trainable params: \u001b[0m\u001b[38;5;34m0\u001b[0m (0.00 B)\n"
            ],
            "text/html": [
              "<pre style=\"white-space:pre;overflow-x:auto;line-height:normal;font-family:Menlo,'DejaVu Sans Mono',consolas,'Courier New',monospace\"><span style=\"font-weight: bold\"> Non-trainable params: </span><span style=\"color: #00af00; text-decoration-color: #00af00\">0</span> (0.00 B)\n",
              "</pre>\n"
            ]
          },
          "metadata": {}
        },
        {
          "output_type": "display_data",
          "data": {
            "text/plain": [
              "\u001b[1m Optimizer params: \u001b[0m\u001b[38;5;34m2\u001b[0m (12.00 B)\n"
            ],
            "text/html": [
              "<pre style=\"white-space:pre;overflow-x:auto;line-height:normal;font-family:Menlo,'DejaVu Sans Mono',consolas,'Courier New',monospace\"><span style=\"font-weight: bold\"> Optimizer params: </span><span style=\"color: #00af00; text-decoration-color: #00af00\">2</span> (12.00 B)\n",
              "</pre>\n"
            ]
          },
          "metadata": {}
        }
      ]
    },
    {
      "cell_type": "code",
      "source": [
        "new_model.get_weights()"
      ],
      "metadata": {
        "id": "o5kzN9OoTXGB",
        "colab": {
          "base_uri": "https://localhost:8080/"
        },
        "outputId": "e6941653-f27c-46cf-ee7d-f0630f6e0ae6"
      },
      "execution_count": null,
      "outputs": [
        {
          "output_type": "execute_result",
          "data": {
            "text/plain": [
              "[array([[-0.20092887, -0.44773906,  0.5018804 ,  0.7508333 , -0.21801978,\n",
              "          0.42134094,  0.691347  , -0.3570045 , -0.01677406, -0.2548227 ,\n",
              "          0.53165275, -0.19356322,  0.25698668, -0.07093477, -0.03874552,\n",
              "         -0.15317705]], dtype=float32),\n",
              " array([ 0.        ,  0.        , -0.11710966, -0.14646488,  0.        ,\n",
              "        -0.12696163, -0.10293622,  0.        ,  0.        ,  0.        ,\n",
              "        -0.1227844 ,  0.        ,  0.28423068,  0.        ,  0.        ,\n",
              "         0.        ], dtype=float32),\n",
              " array([[-1.98656619e-02,  1.24060810e-02, -2.75832146e-01,\n",
              "         -1.08320519e-01,  2.75744796e-02,  3.94147635e-03,\n",
              "          3.30797106e-01,  2.27476090e-01, -8.86005163e-02,\n",
              "         -3.28112364e-01, -1.29445106e-01,  1.67202860e-01,\n",
              "          1.43596917e-01, -6.26426935e-02, -8.87980163e-02,\n",
              "          1.02334142e-01,  3.21210295e-01,  3.48010808e-01,\n",
              "          2.66316265e-01, -8.62720609e-03,  1.45528078e-01,\n",
              "         -7.25283325e-02,  2.52985448e-01, -3.36911798e-01,\n",
              "          2.87833512e-02, -1.15295574e-01,  8.49998295e-02,\n",
              "         -2.76258260e-01, -1.19012326e-01,  9.15054381e-02,\n",
              "         -4.08154428e-02, -3.05252075e-01],\n",
              "        [ 2.45991319e-01, -1.12575918e-01, -1.02685064e-01,\n",
              "         -7.04271197e-02,  2.13824779e-01,  7.35066235e-02,\n",
              "         -3.26323837e-01, -3.59638333e-02,  2.99961954e-01,\n",
              "         -2.38983333e-01, -2.71447361e-01,  1.50181204e-01,\n",
              "         -3.32252979e-02,  2.23457247e-01,  2.50396460e-01,\n",
              "          8.82228017e-02, -2.87529230e-02, -3.05372626e-01,\n",
              "         -1.99260265e-01, -1.83356658e-01, -2.00483203e-03,\n",
              "          3.48925591e-03,  2.83525020e-01, -9.90634561e-02,\n",
              "         -5.09425700e-02, -1.07342035e-01,  1.17706269e-01,\n",
              "          2.47301430e-01,  3.23512524e-01,  2.17255384e-01,\n",
              "          3.04033369e-01,  2.76549667e-01],\n",
              "        [-1.95428848e-01,  4.39904004e-01, -1.47996977e-01,\n",
              "         -5.23354471e-01, -2.50081092e-01,  4.92021441e-03,\n",
              "         -5.92508912e-02, -1.16495997e-01, -3.93431544e-01,\n",
              "          7.56722167e-02, -6.71870783e-02, -8.61608982e-02,\n",
              "          4.18351620e-01, -3.47342193e-01,  6.26195967e-02,\n",
              "          1.43974304e-01, -1.44521594e-01, -7.84973279e-02,\n",
              "         -3.59783322e-02,  2.34385848e-01,  5.00020087e-01,\n",
              "         -3.28743815e-01, -1.52969182e-01, -3.49822909e-01,\n",
              "         -2.78192222e-01,  4.80869412e-02, -2.13357210e-01,\n",
              "         -2.53005862e-01,  1.07084602e-01,  6.62723780e-02,\n",
              "         -1.97690755e-01, -3.31252217e-01],\n",
              "        [-1.64894029e-01,  4.15181965e-01, -2.70052463e-01,\n",
              "         -2.01202799e-02, -2.49413252e-01, -3.31318825e-01,\n",
              "          1.33973956e-02,  1.11261278e-01, -1.00690678e-01,\n",
              "         -5.17122030e-01,  2.76217252e-01, -3.50451648e-01,\n",
              "          2.23916963e-01,  8.20403695e-02, -2.18535960e-01,\n",
              "         -3.07438493e-01,  2.65471965e-01, -2.96013266e-01,\n",
              "          4.41741534e-02,  6.08952641e-01,  7.44300932e-02,\n",
              "          1.39989719e-01, -4.02113438e-01, -3.47625852e-01,\n",
              "         -3.23989809e-01, -3.05114061e-01,  2.40670323e-01,\n",
              "         -9.62767750e-02,  1.41421318e-01, -7.59378076e-03,\n",
              "         -1.31394155e-02, -6.34964108e-02],\n",
              "        [ 3.15806657e-01,  2.19172031e-01,  2.00393796e-02,\n",
              "          2.05259591e-01,  2.11596340e-01,  1.05291337e-01,\n",
              "         -1.36044204e-01,  1.53956413e-02,  3.01176578e-01,\n",
              "          5.75209260e-02, -2.98595577e-01, -2.80027956e-01,\n",
              "          2.10736424e-01,  1.24318182e-01,  3.29535931e-01,\n",
              "         -2.33622342e-01, -6.92129731e-02,  2.28672355e-01,\n",
              "          2.03701049e-01, -2.41516441e-01,  9.58973169e-02,\n",
              "         -1.24705523e-01, -2.13635206e-01, -1.99995890e-01,\n",
              "          2.19813675e-01, -2.74774671e-01,  2.60453433e-01,\n",
              "         -3.19448113e-03, -1.58312917e-03, -2.18183994e-02,\n",
              "         -1.44526929e-01, -2.93445408e-01],\n",
              "        [-4.27464128e-01,  3.79991621e-01, -1.00572079e-01,\n",
              "         -3.14315528e-01, -3.17886293e-01,  3.29386860e-01,\n",
              "         -1.70095831e-01, -1.87436387e-01, -3.79607111e-01,\n",
              "         -2.88038135e-01,  2.00469568e-01,  1.69298977e-01,\n",
              "          4.02649522e-01,  7.53192008e-02, -3.07158530e-02,\n",
              "         -5.11628985e-02, -2.85536587e-01, -1.85665816e-01,\n",
              "         -1.66046411e-01,  5.74152529e-01,  1.37735099e-01,\n",
              "         -2.30103582e-01, -3.45383406e-01, -4.54339683e-01,\n",
              "         -3.17418694e-01, -1.76340729e-01,  1.91901565e-01,\n",
              "         -3.02033305e-01,  1.53691202e-01, -2.65466809e-01,\n",
              "         -3.06241602e-01, -4.72146511e-01],\n",
              "        [ 5.80882505e-02,  4.02151883e-01, -9.40577686e-02,\n",
              "          5.48309721e-02, -1.31257176e-02,  1.97945088e-01,\n",
              "          8.92367661e-02,  1.28171504e-01, -1.59565851e-01,\n",
              "          3.54205817e-02, -1.76271886e-01,  1.68233067e-01,\n",
              "          5.32380164e-01,  3.61372828e-02,  1.77995354e-01,\n",
              "          9.93123651e-03, -2.99348235e-01, -9.29120183e-02,\n",
              "         -1.24327429e-01,  2.68641263e-01,  6.01797581e-01,\n",
              "         -3.77152801e-01, -3.67867649e-02, -2.16739908e-01,\n",
              "         -2.73355901e-01, -2.13997066e-01,  1.80513263e-02,\n",
              "         -1.57858804e-01, -2.17243984e-01, -3.07624519e-01,\n",
              "         -3.85691226e-01, -3.47640246e-01],\n",
              "        [-4.67926860e-02,  2.88215309e-01,  6.27604425e-02,\n",
              "          2.49085993e-01,  3.36301357e-01, -3.18288535e-01,\n",
              "         -3.28671485e-01,  1.20384991e-02, -7.42798448e-02,\n",
              "          2.53635615e-01,  1.09236211e-01, -2.66298622e-01,\n",
              "         -4.63943183e-02,  2.10021704e-01,  2.36631185e-01,\n",
              "         -3.21523041e-01,  1.79433018e-01,  1.49816126e-01,\n",
              "          1.62548572e-01, -2.63272822e-02,  1.33386523e-01,\n",
              "         -3.49884838e-01,  3.08138460e-01, -3.87157500e-02,\n",
              "          3.09459001e-01, -2.58159041e-01,  1.22000217e-01,\n",
              "          2.62714773e-01, -2.34492078e-01, -6.77270293e-02,\n",
              "          7.81907439e-02, -9.98038054e-03],\n",
              "        [-3.44071358e-01,  3.49698633e-01, -1.24895275e-01,\n",
              "          1.99500233e-01, -1.83938459e-01,  3.31859142e-01,\n",
              "          2.68290550e-01,  2.91742474e-01,  3.28326136e-01,\n",
              "          9.57061350e-02, -1.91075429e-01, -1.09797508e-01,\n",
              "          1.41485333e-02, -5.16523123e-02,  1.88115209e-01,\n",
              "         -2.42751092e-01, -2.77620554e-03,  2.73836821e-01,\n",
              "          1.01104975e-01, -2.18484700e-01,  2.81711131e-01,\n",
              "         -2.97207832e-02,  1.20982200e-01,  5.84619045e-02,\n",
              "          3.18944186e-01,  2.47209281e-01, -1.93692163e-01,\n",
              "         -1.63047194e-01,  3.44138294e-01, -9.99906063e-02,\n",
              "         -2.72116244e-01,  1.66648120e-01],\n",
              "        [-1.72685251e-01,  2.52779156e-01,  2.58419544e-01,\n",
              "         -3.42822284e-01, -1.99758604e-01,  3.00478309e-01,\n",
              "         -2.06908479e-01,  8.20079148e-02,  2.94279486e-01,\n",
              "         -3.40316236e-01, -2.67103374e-01, -2.39524499e-01,\n",
              "          9.62278247e-02, -1.56136796e-01,  2.97235161e-01,\n",
              "          1.79263026e-01, -3.12277466e-01,  1.26078337e-01,\n",
              "          7.65508115e-02,  1.43519282e-01, -1.25870213e-01,\n",
              "         -2.62159795e-01,  9.89836454e-03, -5.75039685e-02,\n",
              "         -1.62294447e-01, -3.17684382e-01,  1.71967000e-01,\n",
              "         -7.72597194e-02,  1.41655207e-01, -5.49040139e-02,\n",
              "          2.10774511e-01,  6.79993927e-02],\n",
              "        [-4.83405858e-01,  1.54455602e-01, -1.32647932e-01,\n",
              "         -3.43914658e-01, -6.06745481e-04, -1.41863257e-01,\n",
              "         -3.34594548e-02,  8.60408545e-02, -2.06095174e-01,\n",
              "         -1.94654867e-01,  4.23571765e-02, -3.60358745e-01,\n",
              "          2.62884200e-01, -3.22723895e-01,  7.17051923e-02,\n",
              "          1.93109721e-01,  1.17491111e-01, -4.39113945e-01,\n",
              "         -5.32190442e-01,  5.53257167e-01,  4.68674690e-01,\n",
              "         -3.99532635e-03,  2.42222310e-03,  9.10824016e-02,\n",
              "         -2.45486155e-01,  1.72721386e-01, -3.26149940e-01,\n",
              "         -2.83311933e-01, -2.88290769e-01,  8.07359815e-02,\n",
              "          1.76341087e-02, -2.27437243e-01],\n",
              "        [-2.77866155e-01,  2.33594865e-01,  1.64050967e-01,\n",
              "          2.96879202e-01, -6.21019602e-02,  2.31130093e-01,\n",
              "         -5.10225594e-02,  2.36186892e-01,  2.22033232e-01,\n",
              "         -2.86171377e-01,  1.05762124e-01,  2.45427817e-01,\n",
              "          1.55676991e-01, -3.19463909e-02, -1.01901799e-01,\n",
              "         -1.04655623e-02,  3.02528292e-01, -2.51233310e-01,\n",
              "         -9.79058743e-02,  1.66027218e-01, -8.59078467e-02,\n",
              "         -3.93661559e-02,  3.11504573e-01, -2.07935572e-02,\n",
              "         -3.28356832e-01, -2.51280606e-01, -1.33026585e-01,\n",
              "          1.74187720e-02, -2.00704053e-01,  5.87417483e-02,\n",
              "          1.77268118e-01,  2.86377460e-01],\n",
              "        [ 2.45519817e-01,  9.46884304e-02, -1.58890411e-01,\n",
              "          2.39551723e-01, -1.31341711e-01, -2.32460022e-01,\n",
              "         -8.93724859e-02, -3.53344172e-01,  2.87084967e-01,\n",
              "          9.98347998e-02, -2.03054279e-01,  4.70653698e-02,\n",
              "          2.01972380e-01, -3.11364055e-01, -2.10453883e-01,\n",
              "         -8.62736702e-02,  2.05895845e-02,  3.47486556e-01,\n",
              "          1.16145149e-01,  2.29396358e-01,  1.27784908e-01,\n",
              "          1.84006780e-01,  1.84935033e-01,  3.82011712e-01,\n",
              "          2.76972651e-02,  5.53134754e-02, -2.92913854e-01,\n",
              "          1.80023834e-01, -3.29317778e-01, -3.15621972e-01,\n",
              "          7.01331571e-02,  3.09727877e-01],\n",
              "        [ 1.05586648e-03,  3.14815372e-01,  3.11672062e-01,\n",
              "         -1.97244719e-01, -3.14022094e-01, -3.20927680e-01,\n",
              "         -3.38930547e-01, -1.32136106e-01, -3.66545320e-02,\n",
              "          9.99960303e-03, -9.52813029e-03,  5.69752157e-02,\n",
              "         -9.85300541e-02,  6.82321191e-02, -3.32514107e-01,\n",
              "          2.29669064e-01,  2.44958729e-01, -1.97576925e-01,\n",
              "          1.64803565e-02,  1.91318721e-01,  3.09947133e-03,\n",
              "         -3.25438648e-01, -1.53657541e-01, -1.92322046e-01,\n",
              "         -2.84855038e-01, -8.61873627e-02,  2.52383500e-01,\n",
              "          3.38821381e-01, -1.53416544e-01, -2.02675253e-01,\n",
              "         -1.54122427e-01, -7.74793029e-02],\n",
              "        [ 1.55628592e-01, -7.99241662e-02, -1.82574078e-01,\n",
              "         -3.17988694e-02,  3.08121294e-01,  1.86870128e-01,\n",
              "          6.73163533e-02, -5.38730323e-02, -1.30897239e-01,\n",
              "         -1.01938814e-01,  1.41103566e-02,  1.25996143e-01,\n",
              "          2.05251545e-01,  1.24319792e-02, -4.18767631e-02,\n",
              "         -6.00914657e-02,  1.46438390e-01,  8.42208564e-02,\n",
              "          1.34175599e-01,  3.33387703e-01, -2.03542382e-01,\n",
              "          3.01117331e-01,  2.01444238e-01,  3.26289266e-01,\n",
              "          1.81890041e-01,  1.54403478e-01, -9.25630331e-03,\n",
              "         -8.65214169e-02, -3.20138514e-01,  1.41277015e-02,\n",
              "         -2.83044904e-01,  3.46331328e-01],\n",
              "        [-1.59178615e-01,  2.77951658e-02, -3.21666300e-02,\n",
              "          8.55323076e-02, -1.47572637e-01, -8.78272951e-02,\n",
              "         -3.14759582e-01, -8.98278356e-02, -1.50704995e-01,\n",
              "         -6.50127828e-02, -7.00312853e-02, -2.64184117e-01,\n",
              "          1.44070148e-01, -3.00956726e-01, -1.33560583e-01,\n",
              "         -9.53768790e-02, -6.64988756e-02,  2.86880165e-01,\n",
              "         -7.39468038e-02, -4.10595536e-03,  2.06048101e-01,\n",
              "          2.31628269e-01, -3.45325828e-01,  1.71678632e-01,\n",
              "          1.32017165e-01, -2.80261636e-01,  3.03903371e-01,\n",
              "         -2.08039194e-01, -3.39137137e-01,  3.26269120e-01,\n",
              "          7.18091130e-02,  1.90400928e-01]], dtype=float32),\n",
              " array([ 0.21031189, -0.03294506,  0.        ,  0.17507368,  0.        ,\n",
              "         0.        ,  0.        ,  0.        ,  0.22141936,  0.25436452,\n",
              "        -0.02494268, -0.02121423, -0.05724704,  0.        ,  0.        ,\n",
              "         0.        , -0.00725318,  0.19117898,  0.1740121 , -0.06320368,\n",
              "        -0.04003159, -0.04288381,  0.2123324 ,  0.22844063, -0.00972362,\n",
              "        -0.01807444, -0.00054195,  0.23586836,  0.        ,  0.        ,\n",
              "         0.2474435 ,  0.28725252], dtype=float32),\n",
              " array([[ 0.24011055, -0.80228066],\n",
              "        [-0.72340655,  0.4565878 ],\n",
              "        [ 0.4027132 ,  0.34066686],\n",
              "        [ 0.11902899, -0.522405  ],\n",
              "        [ 0.36811003, -0.16052136],\n",
              "        [ 0.3776659 , -0.25948262],\n",
              "        [ 0.10870865,  0.33116797],\n",
              "        [ 0.21264586,  0.4012805 ],\n",
              "        [ 0.64245164, -0.8454267 ],\n",
              "        [ 0.84394246, -0.02137961],\n",
              "        [ 0.29166016, -0.3205592 ],\n",
              "        [ 0.20963496,  0.40898   ],\n",
              "        [-0.7004472 ,  0.14480868],\n",
              "        [ 0.07838926, -0.12406453],\n",
              "        [ 0.33477387,  0.17357364],\n",
              "        [ 0.3372949 ,  0.2935938 ],\n",
              "        [-0.11685374,  0.39183208],\n",
              "        [ 0.8029797 , -0.25258693],\n",
              "        [ 0.346352  , -0.4109477 ],\n",
              "        [-0.6796454 ,  0.22128332],\n",
              "        [-0.7320697 ,  0.06847301],\n",
              "        [-0.3339278 , -0.02765181],\n",
              "        [ 0.58586   , -0.7026434 ],\n",
              "        [ 0.6574974 , -0.43473718],\n",
              "        [ 0.03923391,  0.2421585 ],\n",
              "        [-0.24370022,  0.27537104],\n",
              "        [-0.28104928,  0.19553001],\n",
              "        [ 0.55787516, -0.82331604],\n",
              "        [-0.18362862, -0.13212547],\n",
              "        [-0.17959635,  0.38537923],\n",
              "        [ 0.38779798, -0.5797568 ],\n",
              "        [ 0.480628  , -0.47331327]], dtype=float32),\n",
              " array([ 0.05994164, -0.05994164], dtype=float32)]"
            ]
          },
          "metadata": {},
          "execution_count": 35
        }
      ]
    },
    {
      "cell_type": "code",
      "source": [
        "new_model.optimizer"
      ],
      "metadata": {
        "colab": {
          "base_uri": "https://localhost:8080/"
        },
        "id": "l2umaZJMTbUt",
        "outputId": "6cb8473b-8e04-4472-d4c4-2a45ea73471f"
      },
      "execution_count": null,
      "outputs": [
        {
          "output_type": "execute_result",
          "data": {
            "text/plain": [
              "<keras.src.optimizers.adam.Adam at 0x79e079872210>"
            ]
          },
          "metadata": {},
          "execution_count": 36
        }
      ]
    },
    {
      "cell_type": "markdown",
      "source": [
        "model.to_json\n"
      ],
      "metadata": {
        "id": "jSZM5wBmUaky"
      }
    },
    {
      "cell_type": "markdown",
      "source": [
        "if i only need the architecture of the model but not it's weights or it's function to save the architecture only."
      ],
      "metadata": {
        "id": "2MaqX5hjVQV3"
      }
    },
    {
      "cell_type": "code",
      "source": [
        "#save to json\n",
        "json_string = model.to_json()\n",
        "\n",
        "#save to YAML\n",
        "#yaml_string = model.to_yaml()"
      ],
      "metadata": {
        "id": "HbxTppw_UR2Y"
      },
      "execution_count": null,
      "outputs": []
    },
    {
      "cell_type": "code",
      "source": [
        "json_string"
      ],
      "metadata": {
        "colab": {
          "base_uri": "https://localhost:8080/",
          "height": 107
        },
        "id": "u9lA3ceZVg1C",
        "outputId": "67250d1f-da9e-436f-ccad-02710375f171"
      },
      "execution_count": null,
      "outputs": [
        {
          "output_type": "execute_result",
          "data": {
            "text/plain": [
              "'{\"module\": \"keras\", \"class_name\": \"Sequential\", \"config\": {\"name\": \"sequential\", \"trainable\": true, \"dtype\": {\"module\": \"keras\", \"class_name\": \"DTypePolicy\", \"config\": {\"name\": \"float32\"}, \"registered_name\": null}, \"layers\": [{\"module\": \"keras.layers\", \"class_name\": \"InputLayer\", \"config\": {\"batch_shape\": [null, 1], \"dtype\": \"float32\", \"sparse\": false, \"name\": \"input_layer\"}, \"registered_name\": null}, {\"module\": \"keras.layers\", \"class_name\": \"Dense\", \"config\": {\"name\": \"dense\", \"trainable\": true, \"dtype\": {\"module\": \"keras\", \"class_name\": \"DTypePolicy\", \"config\": {\"name\": \"float32\"}, \"registered_name\": null}, \"units\": 16, \"activation\": \"relu\", \"use_bias\": true, \"kernel_initializer\": {\"module\": \"keras.initializers\", \"class_name\": \"GlorotUniform\", \"config\": {\"seed\": null}, \"registered_name\": null}, \"bias_initializer\": {\"module\": \"keras.initializers\", \"class_name\": \"Zeros\", \"config\": {}, \"registered_name\": null}, \"kernel_regularizer\": null, \"bias_regularizer\": null, \"kernel_constraint\": null, \"bias_constraint\": null}, \"registered_name\": null, \"build_config\": {\"input_shape\": [null, 1]}}, {\"module\": \"keras.layers\", \"class_name\": \"Dense\", \"config\": {\"name\": \"dense_1\", \"trainable\": true, \"dtype\": {\"module\": \"keras\", \"class_name\": \"DTypePolicy\", \"config\": {\"name\": \"float32\"}, \"registered_name\": null}, \"units\": 32, \"activation\": \"relu\", \"use_bias\": true, \"kernel_initializer\": {\"module\": \"keras.initializers\", \"class_name\": \"GlorotUniform\", \"config\": {\"seed\": null}, \"registered_name\": null}, \"bias_initializer\": {\"module\": \"keras.initializers\", \"class_name\": \"Zeros\", \"config\": {}, \"registered_name\": null}, \"kernel_regularizer\": null, \"bias_regularizer\": null, \"kernel_constraint\": null, \"bias_constraint\": null}, \"registered_name\": null, \"build_config\": {\"input_shape\": [null, 16]}}, {\"module\": \"keras.layers\", \"class_name\": \"Dense\", \"config\": {\"name\": \"dense_2\", \"trainable\": true, \"dtype\": {\"module\": \"keras\", \"class_name\": \"DTypePolicy\", \"config\": {\"name\": \"float32\"}, \"registered_name\": null}, \"units\": 2, \"activation\": \"softmax\", \"use_bias\": true, \"kernel_initializer\": {\"module\": \"keras.initializers\", \"class_name\": \"GlorotUniform\", \"config\": {\"seed\": null}, \"registered_name\": null}, \"bias_initializer\": {\"module\": \"keras.initializers\", \"class_name\": \"Zeros\", \"config\": {}, \"registered_name\": null}, \"kernel_regularizer\": null, \"bias_regularizer\": null, \"kernel_constraint\": null, \"bias_constraint\": null}, \"registered_name\": null, \"build_config\": {\"input_shape\": [null, 32]}}], \"build_input_shape\": [null, 1]}, \"registered_name\": null, \"build_config\": {\"input_shape\": [null, 1]}, \"compile_config\": {\"loss\": \"sparse_categorical_crossentropy\", \"loss_weights\": null, \"metrics\": [\"accuracy\"], \"weighted_metrics\": null, \"run_eagerly\": false, \"steps_per_execution\": 1, \"jit_compile\": false}}'"
            ],
            "application/vnd.google.colaboratory.intrinsic+json": {
              "type": "string"
            }
          },
          "metadata": {},
          "execution_count": 38
        }
      ]
    },
    {
      "cell_type": "code",
      "source": [
        "#model reconstruction from JSON:\n",
        "from tensorflow.keras.models import model_from_json\n",
        "model_architecture = model_from_json(json_string)\n",
        "\n",
        "#model reconstruction from YAML\n",
        "# from tensorflow.keras.models import model_from_yaml\n",
        "# model = model_from_yaml(yaml_string)\n",
        "#model = model_from_yaml(yaml_string)"
      ],
      "metadata": {
        "id": "47RzTuiQVigM"
      },
      "execution_count": null,
      "outputs": []
    },
    {
      "cell_type": "code",
      "source": [
        "model_architecture.summary()"
      ],
      "metadata": {
        "colab": {
          "base_uri": "https://localhost:8080/",
          "height": 248
        },
        "id": "5KDx1U2rYShM",
        "outputId": "1ed04cb2-fc7f-4c77-d90d-8611a107c96c"
      },
      "execution_count": null,
      "outputs": [
        {
          "output_type": "display_data",
          "data": {
            "text/plain": [
              "\u001b[1mModel: \"sequential\"\u001b[0m\n"
            ],
            "text/html": [
              "<pre style=\"white-space:pre;overflow-x:auto;line-height:normal;font-family:Menlo,'DejaVu Sans Mono',consolas,'Courier New',monospace\"><span style=\"font-weight: bold\">Model: \"sequential\"</span>\n",
              "</pre>\n"
            ]
          },
          "metadata": {}
        },
        {
          "output_type": "display_data",
          "data": {
            "text/plain": [
              "┏━━━━━━━━━━━━━━━━━━━━━━━━━━━━━━━━━┳━━━━━━━━━━━━━━━━━━━━━━━━┳━━━━━━━━━━━━━━━┓\n",
              "┃\u001b[1m \u001b[0m\u001b[1mLayer (type)                   \u001b[0m\u001b[1m \u001b[0m┃\u001b[1m \u001b[0m\u001b[1mOutput Shape          \u001b[0m\u001b[1m \u001b[0m┃\u001b[1m \u001b[0m\u001b[1m      Param #\u001b[0m\u001b[1m \u001b[0m┃\n",
              "┡━━━━━━━━━━━━━━━━━━━━━━━━━━━━━━━━━╇━━━━━━━━━━━━━━━━━━━━━━━━╇━━━━━━━━━━━━━━━┩\n",
              "│ dense (\u001b[38;5;33mDense\u001b[0m)                   │ (\u001b[38;5;45mNone\u001b[0m, \u001b[38;5;34m16\u001b[0m)             │            \u001b[38;5;34m32\u001b[0m │\n",
              "├─────────────────────────────────┼────────────────────────┼───────────────┤\n",
              "│ dense_1 (\u001b[38;5;33mDense\u001b[0m)                 │ (\u001b[38;5;45mNone\u001b[0m, \u001b[38;5;34m32\u001b[0m)             │           \u001b[38;5;34m544\u001b[0m │\n",
              "├─────────────────────────────────┼────────────────────────┼───────────────┤\n",
              "│ dense_2 (\u001b[38;5;33mDense\u001b[0m)                 │ (\u001b[38;5;45mNone\u001b[0m, \u001b[38;5;34m2\u001b[0m)              │            \u001b[38;5;34m66\u001b[0m │\n",
              "└─────────────────────────────────┴────────────────────────┴───────────────┘\n"
            ],
            "text/html": [
              "<pre style=\"white-space:pre;overflow-x:auto;line-height:normal;font-family:Menlo,'DejaVu Sans Mono',consolas,'Courier New',monospace\">┏━━━━━━━━━━━━━━━━━━━━━━━━━━━━━━━━━┳━━━━━━━━━━━━━━━━━━━━━━━━┳━━━━━━━━━━━━━━━┓\n",
              "┃<span style=\"font-weight: bold\"> Layer (type)                    </span>┃<span style=\"font-weight: bold\"> Output Shape           </span>┃<span style=\"font-weight: bold\">       Param # </span>┃\n",
              "┡━━━━━━━━━━━━━━━━━━━━━━━━━━━━━━━━━╇━━━━━━━━━━━━━━━━━━━━━━━━╇━━━━━━━━━━━━━━━┩\n",
              "│ dense (<span style=\"color: #0087ff; text-decoration-color: #0087ff\">Dense</span>)                   │ (<span style=\"color: #00d7ff; text-decoration-color: #00d7ff\">None</span>, <span style=\"color: #00af00; text-decoration-color: #00af00\">16</span>)             │            <span style=\"color: #00af00; text-decoration-color: #00af00\">32</span> │\n",
              "├─────────────────────────────────┼────────────────────────┼───────────────┤\n",
              "│ dense_1 (<span style=\"color: #0087ff; text-decoration-color: #0087ff\">Dense</span>)                 │ (<span style=\"color: #00d7ff; text-decoration-color: #00d7ff\">None</span>, <span style=\"color: #00af00; text-decoration-color: #00af00\">32</span>)             │           <span style=\"color: #00af00; text-decoration-color: #00af00\">544</span> │\n",
              "├─────────────────────────────────┼────────────────────────┼───────────────┤\n",
              "│ dense_2 (<span style=\"color: #0087ff; text-decoration-color: #0087ff\">Dense</span>)                 │ (<span style=\"color: #00d7ff; text-decoration-color: #00d7ff\">None</span>, <span style=\"color: #00af00; text-decoration-color: #00af00\">2</span>)              │            <span style=\"color: #00af00; text-decoration-color: #00af00\">66</span> │\n",
              "└─────────────────────────────────┴────────────────────────┴───────────────┘\n",
              "</pre>\n"
            ]
          },
          "metadata": {}
        },
        {
          "output_type": "display_data",
          "data": {
            "text/plain": [
              "\u001b[1m Total params: \u001b[0m\u001b[38;5;34m1,286\u001b[0m (5.03 KB)\n"
            ],
            "text/html": [
              "<pre style=\"white-space:pre;overflow-x:auto;line-height:normal;font-family:Menlo,'DejaVu Sans Mono',consolas,'Courier New',monospace\"><span style=\"font-weight: bold\"> Total params: </span><span style=\"color: #00af00; text-decoration-color: #00af00\">1,286</span> (5.03 KB)\n",
              "</pre>\n"
            ]
          },
          "metadata": {}
        },
        {
          "output_type": "display_data",
          "data": {
            "text/plain": [
              "\u001b[1m Trainable params: \u001b[0m\u001b[38;5;34m642\u001b[0m (2.51 KB)\n"
            ],
            "text/html": [
              "<pre style=\"white-space:pre;overflow-x:auto;line-height:normal;font-family:Menlo,'DejaVu Sans Mono',consolas,'Courier New',monospace\"><span style=\"font-weight: bold\"> Trainable params: </span><span style=\"color: #00af00; text-decoration-color: #00af00\">642</span> (2.51 KB)\n",
              "</pre>\n"
            ]
          },
          "metadata": {}
        },
        {
          "output_type": "display_data",
          "data": {
            "text/plain": [
              "\u001b[1m Non-trainable params: \u001b[0m\u001b[38;5;34m0\u001b[0m (0.00 B)\n"
            ],
            "text/html": [
              "<pre style=\"white-space:pre;overflow-x:auto;line-height:normal;font-family:Menlo,'DejaVu Sans Mono',consolas,'Courier New',monospace\"><span style=\"font-weight: bold\"> Non-trainable params: </span><span style=\"color: #00af00; text-decoration-color: #00af00\">0</span> (0.00 B)\n",
              "</pre>\n"
            ]
          },
          "metadata": {}
        },
        {
          "output_type": "display_data",
          "data": {
            "text/plain": [
              "\u001b[1m Optimizer params: \u001b[0m\u001b[38;5;34m644\u001b[0m (2.52 KB)\n"
            ],
            "text/html": [
              "<pre style=\"white-space:pre;overflow-x:auto;line-height:normal;font-family:Menlo,'DejaVu Sans Mono',consolas,'Courier New',monospace\"><span style=\"font-weight: bold\"> Optimizer params: </span><span style=\"color: #00af00; text-decoration-color: #00af00\">644</span> (2.52 KB)\n",
              "</pre>\n"
            ]
          },
          "metadata": {}
        }
      ]
    },
    {
      "cell_type": "markdown",
      "source": [
        "3. model.save_weights()\n",
        "if u only need to save the weights of a model,\n",
        "you can use the following function save the weights only."
      ],
      "metadata": {
        "id": "eG2OZBysfQ9R"
      }
    },
    {
      "cell_type": "code",
      "source": [
        "#check first to see if file exists already.\n",
        "#if not, the weights are saved to the disk\n",
        "import os.path\n",
        "if os.path.isfile('models/my_model_weights.weights.h5') is False:\n",
        "    model.save_weights('models/my_model_weights.weights.h5')"
      ],
      "metadata": {
        "id": "cu19XDt_fOpE"
      },
      "execution_count": null,
      "outputs": []
    },
    {
      "cell_type": "code",
      "source": [
        "model2=Sequential([\n",
        "    Dense(units=16, input_shape=(1,), activation='relu'),\n",
        "    Dense(units=32, activation='relu'),\n",
        "    Dense(units=2, activation='softmax')\n",
        "])"
      ],
      "metadata": {
        "colab": {
          "base_uri": "https://localhost:8080/"
        },
        "id": "C7WJWMR6gMou",
        "outputId": "3dd3b2d2-927f-49fe-9d15-a0fe1fb715d5"
      },
      "execution_count": null,
      "outputs": [
        {
          "output_type": "stream",
          "name": "stderr",
          "text": [
            "/usr/local/lib/python3.11/dist-packages/keras/src/layers/core/dense.py:87: UserWarning: Do not pass an `input_shape`/`input_dim` argument to a layer. When using Sequential models, prefer using an `Input(shape)` object as the first layer in the model instead.\n",
            "  super().__init__(activity_regularizer=activity_regularizer, **kwargs)\n"
          ]
        }
      ]
    },
    {
      "cell_type": "code",
      "source": [
        "model2.load_weights('models/my_model_weights.weights.h5')"
      ],
      "metadata": {
        "id": "IoIbBg3wgZFl"
      },
      "execution_count": null,
      "outputs": []
    },
    {
      "cell_type": "code",
      "source": [
        "model2.get_weights()"
      ],
      "metadata": {
        "colab": {
          "base_uri": "https://localhost:8080/"
        },
        "id": "HXNWUiLNgboP",
        "outputId": "3c703d22-aea0-4c36-ba9e-773b418d970c"
      },
      "execution_count": null,
      "outputs": [
        {
          "output_type": "execute_result",
          "data": {
            "text/plain": [
              "[array([[-0.20092887, -0.44773906,  0.5018804 ,  0.7508333 , -0.21801978,\n",
              "          0.42134094,  0.691347  , -0.3570045 , -0.01677406, -0.2548227 ,\n",
              "          0.53165275, -0.19356322,  0.25698668, -0.07093477, -0.03874552,\n",
              "         -0.15317705]], dtype=float32),\n",
              " array([ 0.        ,  0.        , -0.11710966, -0.14646488,  0.        ,\n",
              "        -0.12696163, -0.10293622,  0.        ,  0.        ,  0.        ,\n",
              "        -0.1227844 ,  0.        ,  0.28423068,  0.        ,  0.        ,\n",
              "         0.        ], dtype=float32),\n",
              " array([[-1.98656619e-02,  1.24060810e-02, -2.75832146e-01,\n",
              "         -1.08320519e-01,  2.75744796e-02,  3.94147635e-03,\n",
              "          3.30797106e-01,  2.27476090e-01, -8.86005163e-02,\n",
              "         -3.28112364e-01, -1.29445106e-01,  1.67202860e-01,\n",
              "          1.43596917e-01, -6.26426935e-02, -8.87980163e-02,\n",
              "          1.02334142e-01,  3.21210295e-01,  3.48010808e-01,\n",
              "          2.66316265e-01, -8.62720609e-03,  1.45528078e-01,\n",
              "         -7.25283325e-02,  2.52985448e-01, -3.36911798e-01,\n",
              "          2.87833512e-02, -1.15295574e-01,  8.49998295e-02,\n",
              "         -2.76258260e-01, -1.19012326e-01,  9.15054381e-02,\n",
              "         -4.08154428e-02, -3.05252075e-01],\n",
              "        [ 2.45991319e-01, -1.12575918e-01, -1.02685064e-01,\n",
              "         -7.04271197e-02,  2.13824779e-01,  7.35066235e-02,\n",
              "         -3.26323837e-01, -3.59638333e-02,  2.99961954e-01,\n",
              "         -2.38983333e-01, -2.71447361e-01,  1.50181204e-01,\n",
              "         -3.32252979e-02,  2.23457247e-01,  2.50396460e-01,\n",
              "          8.82228017e-02, -2.87529230e-02, -3.05372626e-01,\n",
              "         -1.99260265e-01, -1.83356658e-01, -2.00483203e-03,\n",
              "          3.48925591e-03,  2.83525020e-01, -9.90634561e-02,\n",
              "         -5.09425700e-02, -1.07342035e-01,  1.17706269e-01,\n",
              "          2.47301430e-01,  3.23512524e-01,  2.17255384e-01,\n",
              "          3.04033369e-01,  2.76549667e-01],\n",
              "        [-1.95428848e-01,  4.39904004e-01, -1.47996977e-01,\n",
              "         -5.23354471e-01, -2.50081092e-01,  4.92021441e-03,\n",
              "         -5.92508912e-02, -1.16495997e-01, -3.93431544e-01,\n",
              "          7.56722167e-02, -6.71870783e-02, -8.61608982e-02,\n",
              "          4.18351620e-01, -3.47342193e-01,  6.26195967e-02,\n",
              "          1.43974304e-01, -1.44521594e-01, -7.84973279e-02,\n",
              "         -3.59783322e-02,  2.34385848e-01,  5.00020087e-01,\n",
              "         -3.28743815e-01, -1.52969182e-01, -3.49822909e-01,\n",
              "         -2.78192222e-01,  4.80869412e-02, -2.13357210e-01,\n",
              "         -2.53005862e-01,  1.07084602e-01,  6.62723780e-02,\n",
              "         -1.97690755e-01, -3.31252217e-01],\n",
              "        [-1.64894029e-01,  4.15181965e-01, -2.70052463e-01,\n",
              "         -2.01202799e-02, -2.49413252e-01, -3.31318825e-01,\n",
              "          1.33973956e-02,  1.11261278e-01, -1.00690678e-01,\n",
              "         -5.17122030e-01,  2.76217252e-01, -3.50451648e-01,\n",
              "          2.23916963e-01,  8.20403695e-02, -2.18535960e-01,\n",
              "         -3.07438493e-01,  2.65471965e-01, -2.96013266e-01,\n",
              "          4.41741534e-02,  6.08952641e-01,  7.44300932e-02,\n",
              "          1.39989719e-01, -4.02113438e-01, -3.47625852e-01,\n",
              "         -3.23989809e-01, -3.05114061e-01,  2.40670323e-01,\n",
              "         -9.62767750e-02,  1.41421318e-01, -7.59378076e-03,\n",
              "         -1.31394155e-02, -6.34964108e-02],\n",
              "        [ 3.15806657e-01,  2.19172031e-01,  2.00393796e-02,\n",
              "          2.05259591e-01,  2.11596340e-01,  1.05291337e-01,\n",
              "         -1.36044204e-01,  1.53956413e-02,  3.01176578e-01,\n",
              "          5.75209260e-02, -2.98595577e-01, -2.80027956e-01,\n",
              "          2.10736424e-01,  1.24318182e-01,  3.29535931e-01,\n",
              "         -2.33622342e-01, -6.92129731e-02,  2.28672355e-01,\n",
              "          2.03701049e-01, -2.41516441e-01,  9.58973169e-02,\n",
              "         -1.24705523e-01, -2.13635206e-01, -1.99995890e-01,\n",
              "          2.19813675e-01, -2.74774671e-01,  2.60453433e-01,\n",
              "         -3.19448113e-03, -1.58312917e-03, -2.18183994e-02,\n",
              "         -1.44526929e-01, -2.93445408e-01],\n",
              "        [-4.27464128e-01,  3.79991621e-01, -1.00572079e-01,\n",
              "         -3.14315528e-01, -3.17886293e-01,  3.29386860e-01,\n",
              "         -1.70095831e-01, -1.87436387e-01, -3.79607111e-01,\n",
              "         -2.88038135e-01,  2.00469568e-01,  1.69298977e-01,\n",
              "          4.02649522e-01,  7.53192008e-02, -3.07158530e-02,\n",
              "         -5.11628985e-02, -2.85536587e-01, -1.85665816e-01,\n",
              "         -1.66046411e-01,  5.74152529e-01,  1.37735099e-01,\n",
              "         -2.30103582e-01, -3.45383406e-01, -4.54339683e-01,\n",
              "         -3.17418694e-01, -1.76340729e-01,  1.91901565e-01,\n",
              "         -3.02033305e-01,  1.53691202e-01, -2.65466809e-01,\n",
              "         -3.06241602e-01, -4.72146511e-01],\n",
              "        [ 5.80882505e-02,  4.02151883e-01, -9.40577686e-02,\n",
              "          5.48309721e-02, -1.31257176e-02,  1.97945088e-01,\n",
              "          8.92367661e-02,  1.28171504e-01, -1.59565851e-01,\n",
              "          3.54205817e-02, -1.76271886e-01,  1.68233067e-01,\n",
              "          5.32380164e-01,  3.61372828e-02,  1.77995354e-01,\n",
              "          9.93123651e-03, -2.99348235e-01, -9.29120183e-02,\n",
              "         -1.24327429e-01,  2.68641263e-01,  6.01797581e-01,\n",
              "         -3.77152801e-01, -3.67867649e-02, -2.16739908e-01,\n",
              "         -2.73355901e-01, -2.13997066e-01,  1.80513263e-02,\n",
              "         -1.57858804e-01, -2.17243984e-01, -3.07624519e-01,\n",
              "         -3.85691226e-01, -3.47640246e-01],\n",
              "        [-4.67926860e-02,  2.88215309e-01,  6.27604425e-02,\n",
              "          2.49085993e-01,  3.36301357e-01, -3.18288535e-01,\n",
              "         -3.28671485e-01,  1.20384991e-02, -7.42798448e-02,\n",
              "          2.53635615e-01,  1.09236211e-01, -2.66298622e-01,\n",
              "         -4.63943183e-02,  2.10021704e-01,  2.36631185e-01,\n",
              "         -3.21523041e-01,  1.79433018e-01,  1.49816126e-01,\n",
              "          1.62548572e-01, -2.63272822e-02,  1.33386523e-01,\n",
              "         -3.49884838e-01,  3.08138460e-01, -3.87157500e-02,\n",
              "          3.09459001e-01, -2.58159041e-01,  1.22000217e-01,\n",
              "          2.62714773e-01, -2.34492078e-01, -6.77270293e-02,\n",
              "          7.81907439e-02, -9.98038054e-03],\n",
              "        [-3.44071358e-01,  3.49698633e-01, -1.24895275e-01,\n",
              "          1.99500233e-01, -1.83938459e-01,  3.31859142e-01,\n",
              "          2.68290550e-01,  2.91742474e-01,  3.28326136e-01,\n",
              "          9.57061350e-02, -1.91075429e-01, -1.09797508e-01,\n",
              "          1.41485333e-02, -5.16523123e-02,  1.88115209e-01,\n",
              "         -2.42751092e-01, -2.77620554e-03,  2.73836821e-01,\n",
              "          1.01104975e-01, -2.18484700e-01,  2.81711131e-01,\n",
              "         -2.97207832e-02,  1.20982200e-01,  5.84619045e-02,\n",
              "          3.18944186e-01,  2.47209281e-01, -1.93692163e-01,\n",
              "         -1.63047194e-01,  3.44138294e-01, -9.99906063e-02,\n",
              "         -2.72116244e-01,  1.66648120e-01],\n",
              "        [-1.72685251e-01,  2.52779156e-01,  2.58419544e-01,\n",
              "         -3.42822284e-01, -1.99758604e-01,  3.00478309e-01,\n",
              "         -2.06908479e-01,  8.20079148e-02,  2.94279486e-01,\n",
              "         -3.40316236e-01, -2.67103374e-01, -2.39524499e-01,\n",
              "          9.62278247e-02, -1.56136796e-01,  2.97235161e-01,\n",
              "          1.79263026e-01, -3.12277466e-01,  1.26078337e-01,\n",
              "          7.65508115e-02,  1.43519282e-01, -1.25870213e-01,\n",
              "         -2.62159795e-01,  9.89836454e-03, -5.75039685e-02,\n",
              "         -1.62294447e-01, -3.17684382e-01,  1.71967000e-01,\n",
              "         -7.72597194e-02,  1.41655207e-01, -5.49040139e-02,\n",
              "          2.10774511e-01,  6.79993927e-02],\n",
              "        [-4.83405858e-01,  1.54455602e-01, -1.32647932e-01,\n",
              "         -3.43914658e-01, -6.06745481e-04, -1.41863257e-01,\n",
              "         -3.34594548e-02,  8.60408545e-02, -2.06095174e-01,\n",
              "         -1.94654867e-01,  4.23571765e-02, -3.60358745e-01,\n",
              "          2.62884200e-01, -3.22723895e-01,  7.17051923e-02,\n",
              "          1.93109721e-01,  1.17491111e-01, -4.39113945e-01,\n",
              "         -5.32190442e-01,  5.53257167e-01,  4.68674690e-01,\n",
              "         -3.99532635e-03,  2.42222310e-03,  9.10824016e-02,\n",
              "         -2.45486155e-01,  1.72721386e-01, -3.26149940e-01,\n",
              "         -2.83311933e-01, -2.88290769e-01,  8.07359815e-02,\n",
              "          1.76341087e-02, -2.27437243e-01],\n",
              "        [-2.77866155e-01,  2.33594865e-01,  1.64050967e-01,\n",
              "          2.96879202e-01, -6.21019602e-02,  2.31130093e-01,\n",
              "         -5.10225594e-02,  2.36186892e-01,  2.22033232e-01,\n",
              "         -2.86171377e-01,  1.05762124e-01,  2.45427817e-01,\n",
              "          1.55676991e-01, -3.19463909e-02, -1.01901799e-01,\n",
              "         -1.04655623e-02,  3.02528292e-01, -2.51233310e-01,\n",
              "         -9.79058743e-02,  1.66027218e-01, -8.59078467e-02,\n",
              "         -3.93661559e-02,  3.11504573e-01, -2.07935572e-02,\n",
              "         -3.28356832e-01, -2.51280606e-01, -1.33026585e-01,\n",
              "          1.74187720e-02, -2.00704053e-01,  5.87417483e-02,\n",
              "          1.77268118e-01,  2.86377460e-01],\n",
              "        [ 2.45519817e-01,  9.46884304e-02, -1.58890411e-01,\n",
              "          2.39551723e-01, -1.31341711e-01, -2.32460022e-01,\n",
              "         -8.93724859e-02, -3.53344172e-01,  2.87084967e-01,\n",
              "          9.98347998e-02, -2.03054279e-01,  4.70653698e-02,\n",
              "          2.01972380e-01, -3.11364055e-01, -2.10453883e-01,\n",
              "         -8.62736702e-02,  2.05895845e-02,  3.47486556e-01,\n",
              "          1.16145149e-01,  2.29396358e-01,  1.27784908e-01,\n",
              "          1.84006780e-01,  1.84935033e-01,  3.82011712e-01,\n",
              "          2.76972651e-02,  5.53134754e-02, -2.92913854e-01,\n",
              "          1.80023834e-01, -3.29317778e-01, -3.15621972e-01,\n",
              "          7.01331571e-02,  3.09727877e-01],\n",
              "        [ 1.05586648e-03,  3.14815372e-01,  3.11672062e-01,\n",
              "         -1.97244719e-01, -3.14022094e-01, -3.20927680e-01,\n",
              "         -3.38930547e-01, -1.32136106e-01, -3.66545320e-02,\n",
              "          9.99960303e-03, -9.52813029e-03,  5.69752157e-02,\n",
              "         -9.85300541e-02,  6.82321191e-02, -3.32514107e-01,\n",
              "          2.29669064e-01,  2.44958729e-01, -1.97576925e-01,\n",
              "          1.64803565e-02,  1.91318721e-01,  3.09947133e-03,\n",
              "         -3.25438648e-01, -1.53657541e-01, -1.92322046e-01,\n",
              "         -2.84855038e-01, -8.61873627e-02,  2.52383500e-01,\n",
              "          3.38821381e-01, -1.53416544e-01, -2.02675253e-01,\n",
              "         -1.54122427e-01, -7.74793029e-02],\n",
              "        [ 1.55628592e-01, -7.99241662e-02, -1.82574078e-01,\n",
              "         -3.17988694e-02,  3.08121294e-01,  1.86870128e-01,\n",
              "          6.73163533e-02, -5.38730323e-02, -1.30897239e-01,\n",
              "         -1.01938814e-01,  1.41103566e-02,  1.25996143e-01,\n",
              "          2.05251545e-01,  1.24319792e-02, -4.18767631e-02,\n",
              "         -6.00914657e-02,  1.46438390e-01,  8.42208564e-02,\n",
              "          1.34175599e-01,  3.33387703e-01, -2.03542382e-01,\n",
              "          3.01117331e-01,  2.01444238e-01,  3.26289266e-01,\n",
              "          1.81890041e-01,  1.54403478e-01, -9.25630331e-03,\n",
              "         -8.65214169e-02, -3.20138514e-01,  1.41277015e-02,\n",
              "         -2.83044904e-01,  3.46331328e-01],\n",
              "        [-1.59178615e-01,  2.77951658e-02, -3.21666300e-02,\n",
              "          8.55323076e-02, -1.47572637e-01, -8.78272951e-02,\n",
              "         -3.14759582e-01, -8.98278356e-02, -1.50704995e-01,\n",
              "         -6.50127828e-02, -7.00312853e-02, -2.64184117e-01,\n",
              "          1.44070148e-01, -3.00956726e-01, -1.33560583e-01,\n",
              "         -9.53768790e-02, -6.64988756e-02,  2.86880165e-01,\n",
              "         -7.39468038e-02, -4.10595536e-03,  2.06048101e-01,\n",
              "          2.31628269e-01, -3.45325828e-01,  1.71678632e-01,\n",
              "          1.32017165e-01, -2.80261636e-01,  3.03903371e-01,\n",
              "         -2.08039194e-01, -3.39137137e-01,  3.26269120e-01,\n",
              "          7.18091130e-02,  1.90400928e-01]], dtype=float32),\n",
              " array([ 0.21031189, -0.03294506,  0.        ,  0.17507368,  0.        ,\n",
              "         0.        ,  0.        ,  0.        ,  0.22141936,  0.25436452,\n",
              "        -0.02494268, -0.02121423, -0.05724704,  0.        ,  0.        ,\n",
              "         0.        , -0.00725318,  0.19117898,  0.1740121 , -0.06320368,\n",
              "        -0.04003159, -0.04288381,  0.2123324 ,  0.22844063, -0.00972362,\n",
              "        -0.01807444, -0.00054195,  0.23586836,  0.        ,  0.        ,\n",
              "         0.2474435 ,  0.28725252], dtype=float32),\n",
              " array([[ 0.24011055, -0.80228066],\n",
              "        [-0.72340655,  0.4565878 ],\n",
              "        [ 0.4027132 ,  0.34066686],\n",
              "        [ 0.11902899, -0.522405  ],\n",
              "        [ 0.36811003, -0.16052136],\n",
              "        [ 0.3776659 , -0.25948262],\n",
              "        [ 0.10870865,  0.33116797],\n",
              "        [ 0.21264586,  0.4012805 ],\n",
              "        [ 0.64245164, -0.8454267 ],\n",
              "        [ 0.84394246, -0.02137961],\n",
              "        [ 0.29166016, -0.3205592 ],\n",
              "        [ 0.20963496,  0.40898   ],\n",
              "        [-0.7004472 ,  0.14480868],\n",
              "        [ 0.07838926, -0.12406453],\n",
              "        [ 0.33477387,  0.17357364],\n",
              "        [ 0.3372949 ,  0.2935938 ],\n",
              "        [-0.11685374,  0.39183208],\n",
              "        [ 0.8029797 , -0.25258693],\n",
              "        [ 0.346352  , -0.4109477 ],\n",
              "        [-0.6796454 ,  0.22128332],\n",
              "        [-0.7320697 ,  0.06847301],\n",
              "        [-0.3339278 , -0.02765181],\n",
              "        [ 0.58586   , -0.7026434 ],\n",
              "        [ 0.6574974 , -0.43473718],\n",
              "        [ 0.03923391,  0.2421585 ],\n",
              "        [-0.24370022,  0.27537104],\n",
              "        [-0.28104928,  0.19553001],\n",
              "        [ 0.55787516, -0.82331604],\n",
              "        [-0.18362862, -0.13212547],\n",
              "        [-0.17959635,  0.38537923],\n",
              "        [ 0.38779798, -0.5797568 ],\n",
              "        [ 0.480628  , -0.47331327]], dtype=float32),\n",
              " array([ 0.05994164, -0.05994164], dtype=float32)]"
            ]
          },
          "metadata": {},
          "execution_count": 57
        }
      ]
    }
  ]
}